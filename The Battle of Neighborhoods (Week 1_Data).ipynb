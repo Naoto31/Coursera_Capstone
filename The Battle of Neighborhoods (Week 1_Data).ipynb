{
 "cells": [
  {
   "cell_type": "markdown",
   "metadata": {},
   "source": [
    "## A description of the data and how it will be used to solve the problem."
   ]
  },
  {
   "cell_type": "markdown",
   "metadata": {},
   "source": [
    "#### Data needed to find out where to build a coffee shop."
   ]
  },
  {
   "cell_type": "markdown",
   "metadata": {},
   "source": [
    "\n",
    "- Suburbs of Wellington city (incl. Longitude & Latitude):\n",
    "https://en.wikipedia.org/wiki/Category:Suburbs_of_Wellington_City\n",
    "\n",
    "- Population in each suburb:\n",
    "https://en.wikipedia.org/wiki/Category:Suburbs_of_Wellington_City\n",
    "\n",
    "- geopy library, folium\n",
    "\n",
    "- I will use Forsquare API  to get common venue data of given suburbs in Wellington. With this I could also get the number of coffee shops in each suburb.\n",
    "\n",
    "These data can be obtained without any cost."
   ]
  },
  {
   "cell_type": "markdown",
   "metadata": {},
   "source": [
    "#### Coffee shop density rate (/person) can be calculated as follows:"
   ]
  },
  {
   "cell_type": "markdown",
   "metadata": {},
   "source": [
    "Number of coffee shops / population (in each suburb)"
   ]
  },
  {
   "cell_type": "markdown",
   "metadata": {},
   "source": [
    "In the end, I plan to use k-means clustering with data that I get from the sources above and find out a suburb which has high coffee shop density rate while having less population in the area. Also I want to see whethere there are other factors that I should take into account to solve my problem after clustering."
   ]
  }
 ],
 "metadata": {
  "kernelspec": {
   "display_name": "Python 3",
   "language": "python",
   "name": "python3"
  },
  "language_info": {
   "codemirror_mode": {
    "name": "ipython",
    "version": 3
   },
   "file_extension": ".py",
   "mimetype": "text/x-python",
   "name": "python",
   "nbconvert_exporter": "python",
   "pygments_lexer": "ipython3",
   "version": "3.7.3"
  }
 },
 "nbformat": 4,
 "nbformat_minor": 2
}
